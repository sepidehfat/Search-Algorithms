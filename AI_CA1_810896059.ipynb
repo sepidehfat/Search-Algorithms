{
 "cells": [
  {
   "cell_type": "code",
   "execution_count": 1,
   "id": "adjacent-nevada",
   "metadata": {},
   "outputs": [
    {
     "data": {
      "text/html": [
       "<style>.text_cell .rendered_html * {direction: rtl; text-align: right;}</style>\n"
      ],
      "text/plain": [
       "<IPython.core.display.HTML object>"
      ]
     },
     "metadata": {},
     "output_type": "display_data"
    }
   ],
   "source": [
    "%%html\n",
    "<style>.text_cell .rendered_html * {direction: rtl; text-align: right;}</style>"
   ]
  },
  {
   "cell_type": "markdown",
   "id": "golden-northern",
   "metadata": {},
   "source": [
    "## هدف"
   ]
  },
  {
   "cell_type": "markdown",
   "id": "minus-discharge",
   "metadata": {},
   "source": [
    "در این پروژه می خواهیم با استفاده از الگوریتم های سرچ آگاهانه BFS و IDS و همچنین الگوریتم های سرچ نا آگاهانه A* و weighted A star راه حل مناسب برای مسئله پیده کنیم.\n",
    "ویژگی\n",
    " های هر کدام و مزایا و معایب هر کدام بررسی خواهد شد."
   ]
  },
  {
   "cell_type": "code",
   "execution_count": 2,
   "id": "gentle-cookbook",
   "metadata": {},
   "outputs": [],
   "source": [
    "import time\n",
    "from heapq import heappop, heappush\n",
    "import math"
   ]
  },
  {
   "cell_type": "markdown",
   "id": "accepting-mauritius",
   "metadata": {},
   "source": [
    "ابتدا ورودی ها را با استفاده از متد get_info از فایل می گیریم و اطلاعات مسئله را در کلاس Maze ذخیره می کنیم."
   ]
  },
  {
   "cell_type": "code",
   "execution_count": 3,
   "id": "olive-panel",
   "metadata": {},
   "outputs": [],
   "source": [
    "def get_info(_data):\n",
    "    lines = _data.splitlines()\n",
    "    n, m = lines[0].split()\n",
    "    n = int(n)\n",
    "    m = int(m)\n",
    "    start = lines[1].split()\n",
    "    start = (int(start[0]), int(start[1]))\n",
    "    end = lines[2].split()\n",
    "    end = (int(end[0]), int(end[1]))\n",
    "    c = int(lines[3])\n",
    "    k = int(lines[4])\n",
    "    balls = {}\n",
    "    map = []\n",
    "    for i in range(k):\n",
    "        temp = lines[i + 5].split()\n",
    "        temp = [int(j) for j in temp]\n",
    "        balls[(temp[0], temp[1])] = (temp[2], temp[3])\n",
    "    balls_0 = list(balls.keys())\n",
    "    balls_1 = list(balls.values())\n",
    "    for i in range(n):\n",
    "        temp = lines[i + k + 5].split()\n",
    "        map.append(temp)\n",
    "    for i in range(n):\n",
    "        for j in range(m):\n",
    "            if map[i][j] == '*':\n",
    "                map[i][j] = 1\n",
    "            if map[i][j] == '-':\n",
    "                map[i][j] = 0\n",
    "    return m, n, c, start, end, balls, map, balls_0, balls_1\n"
   ]
  },
  {
   "cell_type": "markdown",
   "id": "medium-battlefield",
   "metadata": {},
   "source": [
    "## مسئله: Maze"
   ]
  },
  {
   "cell_type": "markdown",
   "id": "opened-suggestion",
   "metadata": {},
   "source": [
    "کلاس Maze سه متد دارد:  \n",
    "get_initial_state: برای الگوریتم های سرچ زمانی که می خواهیم استیت اولیه را ایجاد کنیم به دلیل این که کاملا به اطلاعات مسئله وابسته است بنابر این به عهده این کلاس است.  \n",
    "goal_test: شرایط پایان مسئله را بررسی می کند که در صورت برقرار بودن آن شرایط خروجی True  است.  \n",
    "actions: به دلیل این که اکشن های هر مسيله مختص به خود آن مسئله است بنابر این این متد را هم در کلاس Maze ذخیره می کنیم."
   ]
  },
  {
   "cell_type": "code",
   "execution_count": 4,
   "id": "sweet-interface",
   "metadata": {},
   "outputs": [],
   "source": [
    "class Maze:\n",
    "    def __init__(self, m, n, c, start, end, balls, map, balls_0, balls_1):\n",
    "        self.m = m\n",
    "        self.n = n\n",
    "        self.c = c\n",
    "        self.start = start\n",
    "        self.end = end\n",
    "        self.balls = balls\n",
    "        self.map = map\n",
    "        self.balls_0 = balls_0\n",
    "        self.balls_1 = balls_1\n",
    "\n",
    "    def get_initial_state(self):\n",
    "        backpack = set()\n",
    "        keys = self.balls.keys()\n",
    "        ball_remain_loc = set(keys)\n",
    "        return State(ball_remain_loc, backpack, self.start)\n",
    "\n",
    "    def goal_test(self, state):\n",
    "        return len(state.ball_remain_loc) == 0 and state.agent_loc == self.end and len(state.backpack) == 0\n",
    "\n",
    "    def actions(self):\n",
    "        return ['take_ball', 'left', 'up', 'right', 'down']\n"
   ]
  },
  {
   "cell_type": "markdown",
   "id": "radical-cardiff",
   "metadata": {},
   "source": [
    "## State"
   ]
  },
  {
   "cell_type": "markdown",
   "id": "according-equality",
   "metadata": {},
   "source": [
    "متد های __hash__ و __eq__ را override کردیم که بتوان برای وجود داشتن یک instance از state در set از آن استفاده کند."
   ]
  },
  {
   "cell_type": "markdown",
   "id": "right-berkeley",
   "metadata": {},
   "source": [
    "متد put_ball در هر مرحله اگر توپی در کوله پشتی داشته باشد که مکان قرار گیری آن با جایی که agent اکنون در آن قرار دارد برابر بود، توپ را روی زمین قرار می دهد."
   ]
  },
  {
   "cell_type": "code",
   "execution_count": 5,
   "id": "threatened-margin",
   "metadata": {},
   "outputs": [],
   "source": [
    "class State:\n",
    "    def __init__(self, ball_remain_loc, backpack, agent_loc):\n",
    "        self.ball_remain_loc = ball_remain_loc\n",
    "        self.backpack = backpack\n",
    "        self.agent_loc = agent_loc\n",
    "\n",
    "    def __hash__(self):\n",
    "        return hash((frozenset(self.ball_remain_loc), frozenset(self.backpack), tuple(self.agent_loc)))\n",
    "\n",
    "    def __eq__(self, other):\n",
    "        return  self.ball_remain_loc == other.ball_remain_loc and self.backpack == other.backpack and self.agent_loc == other.agent_loc\n",
    "\n",
    "    def __ne__(self, other):\n",
    "        return not self.__eq__(other)\n",
    "\n",
    "    def put_ball(self, balls_0, balls_1):\n",
    "        if self.agent_loc in balls_1:\n",
    "            pos = balls_1.index(self.agent_loc)\n",
    "            ball = balls_0[pos]\n",
    "            if ball in self.backpack:\n",
    "                self.backpack.remove(ball)\n",
    "\n",
    "    def print(self):\n",
    "        print(self.ball_remain_loc, self.backpack, self.agent_loc)\n"
   ]
  },
  {
   "cell_type": "markdown",
   "id": "naval-captain",
   "metadata": {},
   "source": [
    "## Node"
   ]
  },
  {
   "cell_type": "markdown",
   "id": "unexpected-healing",
   "metadata": {},
   "source": [
    "این کلاس یک attribute برای State دارد و به طور کلی برای نگه داشتن اطلاعات مربوط به state است. برای print کردن خروجی از این  کلاس استفاده می شود.\n",
    "  \n",
    "  متد __lt__ را overrideکردم که در الگوریتم A* که از heap استفاده می کنم، بر اساس تابع heuristic در heap عملیات push و pop را انجام دهد. در ادامه بیشتر توضیح خواهم داد."
   ]
  },
  {
   "cell_type": "markdown",
   "id": "musical-tribe",
   "metadata": {},
   "source": [
    "در متد child_node هنگامی که یک نود به آن داده می شود با توجه به actionآن nodeو stateجدیدی با تغییرات اعمال شده ایجاد می کند و آن را بر می گرداند.  \n",
    "در این بخش به دلیل این که set ها با وجود این که در متغیر جدیدی ریخته می شودند ولی همچنان by refrence هستند و باید کپی آن ها در متغیر ریخته شود که مقادیر state والد را تغییر ندهد."
   ]
  },
  {
   "cell_type": "code",
   "execution_count": 6,
   "id": "boring-radar",
   "metadata": {},
   "outputs": [],
   "source": [
    "class Node:\n",
    "    def __init__(self, state, parent, action, path_cost):\n",
    "        self.state = state\n",
    "        self.parent = parent\n",
    "        self.action = action\n",
    "        self.path_cost = path_cost\n",
    "        self.depth = None\n",
    "        self.heuristic = None\n",
    "\n",
    "    def __lt__(self, other):\n",
    "        return self.heuristic <= other.heuristic\n",
    "\n",
    "    def print_path(self):\n",
    "        if self is not None:\n",
    "            print('loc:', self.state.agent_loc, ' f:', self.heuristic, ' cost:', self.path_cost, ' action:', self.action)\n",
    "        if self.parent is not None:\n",
    "            return self.parent.print_path()\n",
    "        else:\n",
    "            return\n",
    "\n",
    "    def child_node(self, maze, action):\n",
    "        child_ball_remain_loc = self.state.ball_remain_loc.copy()\n",
    "        child_backpack = self.state.backpack.copy()\n",
    "        child_agent_loc = self.state.agent_loc\n",
    "\n",
    "        if action == 'take_ball':\n",
    "            if child_agent_loc in child_ball_remain_loc and len(child_backpack) < maze.c:\n",
    "                child_ball_remain_loc.remove(self.state.agent_loc)\n",
    "                child_backpack.add(self.state.agent_loc)\n",
    "        if action == 'left':\n",
    "            child_agent_loc = (self.state.agent_loc[0], self.state.agent_loc[1]-1)\n",
    "        if action == 'right':\n",
    "            child_agent_loc = (self.state.agent_loc[0], self.state.agent_loc[1]+1)\n",
    "        if action == 'up':\n",
    "            child_agent_loc = (self.state.agent_loc[0]-1, self.state.agent_loc[1])\n",
    "        if action == 'down':\n",
    "            child_agent_loc = (self.state.agent_loc[0]+1, self.state.agent_loc[1])\n",
    "\n",
    "        if 0 <= child_agent_loc[0] < maze.n and 0 <= child_agent_loc[1] < maze.m and maze.map[child_agent_loc[0]][child_agent_loc[1]] != 1:\n",
    "            child_state = State(child_ball_remain_loc, child_backpack, child_agent_loc)\n",
    "            child = Node(child_state, self, action, self.path_cost + 1)\n",
    "            return child\n",
    "        return self\n"
   ]
  },
  {
   "cell_type": "markdown",
   "id": "working-andrew",
   "metadata": {},
   "source": [
    "## BFS"
   ]
  },
  {
   "cell_type": "markdown",
   "id": "aware-commander",
   "metadata": {},
   "source": [
    "الگوریتم BFS به صورت سطحی جلو می رود.\n",
    "در این الگوریتم frontier لیستی است که در هر iteration از ابتدای آن pop می کنیم. درواقع به صورت FIFO می باشد یعنی اولین نودی که به frontier اضافه شده اولین نودی است که از frontier خارج می شود."
   ]
  },
  {
   "cell_type": "markdown",
   "id": "nominated-prospect",
   "metadata": {},
   "source": [
    "در پیاده سازی این الگوریتم به دلیل این   که frontier ها را لیستی از  Node ها گرفته بودم، هنگامی که برای اضافه کردن child به frontier باید چک می کرد که این node در frontierوجود دارد یا نه، از نظر زمانی برای تست ۳ به مشکل می خوردم.  \n",
    "بنابر این تصمیم گرفتم هنگام اضافه کردن child به frontierآن را به explored هم اضافه کنم. در این صورت هر بار فقط کافی است که state های explored را بررسی کند. و چون اوردر زمانی برای وجود داشتن یک نود در set به طور میانگین o(1) است در صورتی که اگر می خواستم  state های  node frontier را در setجدایی ذخیره کنم این کار با o(n)  نجام می شد.  \n",
    "تعداد  state های مجزای دیده شده برابر است با تعداد دفعاتی که while اجرا  می شود، به دلیل این که هنگام اضافه کردن به frontier نود های تکراری را اضافه نمی کنیم.  \n",
    "و تعداد کل state ها برابر است با مجموع تعداد همه استیت ها بدون توجه به این که در explored یا frontierوجود داشته اند.  \n",
    "فاصله جواب  همان cost از نود مبدا تا نود مقصد می باشد."
   ]
  },
  {
   "cell_type": "code",
   "execution_count": 7,
   "id": "chief-feature",
   "metadata": {},
   "outputs": [],
   "source": [
    "def BFS(maze):\n",
    "    initial_state = maze.get_initial_state()\n",
    "    initial_node = Node(initial_state, None, None, 0)\n",
    "    initial_node.total_state = 1\n",
    "    if maze.goal_test(initial_node.state):\n",
    "        return initial_node\n",
    "    frontier = [initial_node]\n",
    "    explored = set()\n",
    "    explored.add(initial_state)\n",
    "    unique_states = 0\n",
    "    total_states = 0\n",
    "    while True:\n",
    "        unique_states += 1\n",
    "        if not frontier:\n",
    "            print(\"empty frontier\")\n",
    "            break\n",
    "        node = frontier.pop(0)\n",
    "        node.state.put_ball(maze.balls_0, maze.balls_1)\n",
    "        for action in maze.actions():\n",
    "            total_states += 1\n",
    "            child = node.child_node(maze, action)\n",
    "            if child.state not in explored:\n",
    "                if maze.goal_test(child.state):\n",
    "                    return child, unique_states, total_states\n",
    "                frontier.append(child)\n",
    "                explored.add(child.state)\n",
    "    return None\n"
   ]
  },
  {
   "cell_type": "markdown",
   "id": "brutal-orleans",
   "metadata": {},
   "source": [
    "# test BFS"
   ]
  },
  {
   "cell_type": "code",
   "execution_count": 8,
   "id": "heard-creativity",
   "metadata": {},
   "outputs": [
    {
     "name": "stdout",
     "output_type": "stream",
     "text": [
      "path is:\n",
      "loc: (2, 6)  f: None  cost: 20  action: right\n",
      "loc: (2, 5)  f: None  cost: 19  action: down\n",
      "loc: (1, 5)  f: None  cost: 18  action: right\n",
      "loc: (1, 4)  f: None  cost: 17  action: right\n",
      "loc: (1, 3)  f: None  cost: 16  action: right\n",
      "loc: (1, 2)  f: None  cost: 15  action: take_ball\n",
      "loc: (1, 2)  f: None  cost: 14  action: right\n",
      "loc: (1, 1)  f: None  cost: 13  action: left\n",
      "loc: (1, 2)  f: None  cost: 12  action: left\n",
      "loc: (1, 3)  f: None  cost: 11  action: up\n",
      "loc: (2, 3)  f: None  cost: 10  action: up\n",
      "loc: (3, 3)  f: None  cost: 9  action: right\n",
      "loc: (3, 2)  f: None  cost: 8  action: take_ball\n",
      "loc: (3, 2)  f: None  cost: 7  action: left\n",
      "loc: (3, 3)  f: None  cost: 6  action: down\n",
      "loc: (2, 3)  f: None  cost: 5  action: take_ball\n",
      "loc: (2, 3)  f: None  cost: 4  action: down\n",
      "loc: (1, 3)  f: None  cost: 3  action: right\n",
      "loc: (1, 2)  f: None  cost: 2  action: right\n",
      "loc: (1, 1)  f: None  cost: 1  action: right\n",
      "loc: (1, 0)  f: None  cost: 0  action: None\n",
      "unique states:  238\n",
      "total states:  1189\n",
      "Run Time BFS:  0.042177438735961914\n"
     ]
    }
   ],
   "source": [
    "data = open('1.txt').read()\n",
    "m, n, c, start, end, balls, map, balls_0, balls_1 = get_info(data)\n",
    "maze = Maze(m, n, c, start, end, balls, map, balls_0, balls_1)\n",
    "tic = time.time()\n",
    "solution, unique_states, total_states = BFS(maze)\n",
    "toc = time.time()\n",
    "if solution is not None:\n",
    "    print(\"path is:\")\n",
    "    solution.print_path()\n",
    "    print('unique states: ', unique_states)\n",
    "    print('total states: ', total_states)\n",
    "print(\"Run Time BFS: \", toc-tic)"
   ]
  },
  {
   "cell_type": "markdown",
   "id": "compound-blind",
   "metadata": {},
   "source": [
    "## IDS"
   ]
  },
  {
   "cell_type": "markdown",
   "id": "utility-attraction",
   "metadata": {},
   "source": [
    "در این الگوریتم از limit صفر شروع می کنیم و در هر مرحله تا آن عمق خاص DFS را اجرا می کنیم.  \n",
    "DFS همانند BFS می باشد با این تفاوت که در هر iteration نودی pop ی شود از انتهای frontier می باشد درواقع DFS به صورت LIFO می باشد. یعنی آخرین نودی که به فرانتیر وارد می شود اولین نودی است که خارج می شود.  "
   ]
  },
  {
   "cell_type": "markdown",
   "id": "italic-afternoon",
   "metadata": {},
   "source": [
    "بهتر است که این الگوریتم را به صورت بازگشتی پیاده سازی کرد زیرا در غیر این صورت مشکل زیر پیش می آید:\n",
    "مثلا اگر همچین شرایطی  را در نظر بگیریم: "
   ]
  },
  {
   "cell_type": "raw",
   "id": "signal-winter",
   "metadata": {},
   "source": [
    "S -> A -> B -> C -> G    \n",
    " \\            /    \n",
    "  \\-----> D -/    "
   ]
  },
  {
   "cell_type": "markdown",
   "id": "sacred-position",
   "metadata": {},
   "source": [
    "  \n",
    "  اگر limit  را ۳ قرار دهیم ابتدا نود A سپس Bو بعد Cبررسی می شود و  پس از backtracking به S , سپس D به دلیل این که نود C را به explored اضافه کردیم، دیگر دیگر آن را وارد frontier نمی کند. بنابر این این الگوریتم بهینه ترین جواب راا زمانی به ما می دهد که state  های ویزیت شده را هنگام backtracking از اکسپلور خارج کنیم.\n",
    " که بهترین روش زدن تابع به صورت بازگشتی است."
   ]
  },
  {
   "cell_type": "markdown",
   "id": "impossible-burton",
   "metadata": {},
   "source": [
    "پیاده سازی این الگوریتم به صورت غیر بازگشتی:"
   ]
  },
  {
   "cell_type": "code",
   "execution_count": 9,
   "id": "rough-shareware",
   "metadata": {},
   "outputs": [],
   "source": [
    "def IDS(maze):\n",
    "    limit = 1\n",
    "    initial_state = maze.get_initial_state()\n",
    "    initial_node = Node(initial_state, None, None, 0)\n",
    "    unique_states = 0\n",
    "    total_states = 0\n",
    "    while True:\n",
    "        initial_node.depth = 1\n",
    "        frontier = [initial_node]\n",
    "        explored = set()\n",
    "        explored.add(initial_node.state)\n",
    "        result, unique_states, total_states = DFS(maze, limit, explored, frontier, unique_states, total_states)\n",
    "        if result is not None:\n",
    "            return result, unique_states, total_states\n",
    "        limit = limit + 1\n",
    "def DFS(maze, limit, explored, frontier, unique_states, total_states):\n",
    "    while True:\n",
    "        # print('here')\n",
    "        if not frontier:\n",
    "            return None, unique_states, total_states\n",
    "        unique_states += 1\n",
    "        node = frontier.pop()\n",
    "        if node.state in explored and node.depth >= limit:\n",
    "            continue\n",
    "        if maze.goal_test(node.state):\n",
    "            return node, unique_states, total_states\n",
    "        for action in maze.actions():\n",
    "            total_states += 1\n",
    "            child = node.child_node(maze, action)\n",
    "            child.state.put_ball(maze.balls_0, maze.balls_1)\n",
    "            if child.state not in explored:\n",
    "                child.depth = node.depth + 1\n",
    "                explored.add(child.state)\n",
    "                frontier.append(child)\n"
   ]
  },
  {
   "cell_type": "markdown",
   "id": "delayed-struggle",
   "metadata": {},
   "source": [
    "# test IDS"
   ]
  },
  {
   "cell_type": "code",
   "execution_count": 10,
   "id": "legislative-clause",
   "metadata": {},
   "outputs": [
    {
     "name": "stdout",
     "output_type": "stream",
     "text": [
      "path is:\n",
      "loc: (48, 48)  f: None  cost: 48  action: right\n",
      "loc: (48, 47)  f: None  cost: 47  action: right\n",
      "loc: (48, 46)  f: None  cost: 46  action: right\n",
      "loc: (48, 45)  f: None  cost: 45  action: right\n",
      "loc: (48, 44)  f: None  cost: 44  action: right\n",
      "loc: (48, 43)  f: None  cost: 43  action: right\n",
      "loc: (48, 42)  f: None  cost: 42  action: right\n",
      "loc: (48, 41)  f: None  cost: 41  action: right\n",
      "loc: (48, 40)  f: None  cost: 40  action: right\n",
      "loc: (48, 39)  f: None  cost: 39  action: right\n",
      "loc: (48, 38)  f: None  cost: 38  action: right\n",
      "loc: (48, 37)  f: None  cost: 37  action: right\n",
      "loc: (48, 36)  f: None  cost: 36  action: right\n",
      "loc: (48, 35)  f: None  cost: 35  action: right\n",
      "loc: (48, 34)  f: None  cost: 34  action: right\n",
      "loc: (48, 33)  f: None  cost: 33  action: right\n",
      "loc: (48, 32)  f: None  cost: 32  action: right\n",
      "loc: (48, 31)  f: None  cost: 31  action: right\n",
      "loc: (48, 30)  f: None  cost: 30  action: right\n",
      "loc: (48, 29)  f: None  cost: 29  action: right\n",
      "loc: (48, 28)  f: None  cost: 28  action: right\n",
      "loc: (48, 27)  f: None  cost: 27  action: right\n",
      "loc: (48, 26)  f: None  cost: 26  action: right\n",
      "loc: (48, 25)  f: None  cost: 25  action: right\n",
      "loc: (48, 24)  f: None  cost: 24  action: down\n",
      "loc: (47, 24)  f: None  cost: 23  action: down\n",
      "loc: (46, 24)  f: None  cost: 22  action: down\n",
      "loc: (45, 24)  f: None  cost: 21  action: down\n",
      "loc: (44, 24)  f: None  cost: 20  action: down\n",
      "loc: (43, 24)  f: None  cost: 19  action: down\n",
      "loc: (42, 24)  f: None  cost: 18  action: down\n",
      "loc: (41, 24)  f: None  cost: 17  action: down\n",
      "loc: (40, 24)  f: None  cost: 16  action: down\n",
      "loc: (39, 24)  f: None  cost: 15  action: down\n",
      "loc: (38, 24)  f: None  cost: 14  action: down\n",
      "loc: (37, 24)  f: None  cost: 13  action: down\n",
      "loc: (36, 24)  f: None  cost: 12  action: down\n",
      "loc: (35, 24)  f: None  cost: 11  action: down\n",
      "loc: (34, 24)  f: None  cost: 10  action: down\n",
      "loc: (33, 24)  f: None  cost: 9  action: down\n",
      "loc: (32, 24)  f: None  cost: 8  action: down\n",
      "loc: (31, 24)  f: None  cost: 7  action: down\n",
      "loc: (30, 24)  f: None  cost: 6  action: down\n",
      "loc: (29, 24)  f: None  cost: 5  action: down\n",
      "loc: (28, 24)  f: None  cost: 4  action: down\n",
      "loc: (27, 24)  f: None  cost: 3  action: down\n",
      "loc: (26, 24)  f: None  cost: 2  action: down\n",
      "loc: (25, 24)  f: None  cost: 1  action: down\n",
      "loc: (24, 24)  f: None  cost: 0  action: None\n",
      "unique states:  28345\n",
      "total states:  107075\n",
      "Run Time BFS:  0.35749244689941406\n"
     ]
    }
   ],
   "source": [
    "data = open('2.txt').read()\n",
    "m, n, c, start, end, balls, map, balls_0, balls_1 = get_info(data)\n",
    "maze = Maze(m, n, c, start, end, balls, map, balls_0, balls_1)\n",
    "tic = time.time()\n",
    "solution, unique_states, total_states = IDS(maze)\n",
    "toc = time.time()\n",
    "if solution is not None:\n",
    "    print(\"path is:\")\n",
    "    solution.print_path()\n",
    "    print('unique states: ', unique_states)\n",
    "    print('total states: ', total_states)\n",
    "print(\"Run Time BFS: \", toc-tic)"
   ]
  },
  {
   "cell_type": "markdown",
   "id": "running-operations",
   "metadata": {},
   "source": [
    "## A*"
   ]
  },
  {
   "cell_type": "markdown",
   "id": "completed-combination",
   "metadata": {},
   "source": [
    "این الگوریتم مسیر یابی با تخمین زدن مسیر تا رسیدن به هدف، جست و جو را بهبود می دهد. این الگوریتم تلاش می کند که به . \n",
    "سمت هدف حرکت کند\n",
    "\n",
    "در ادامه توضیحات بیشتری راجع به الگوریتم و پیاده سازی آن آمده است."
   ]
  },
  {
   "cell_type": "markdown",
   "id": "lined-glucose",
   "metadata": {},
   "source": [
    "برای این الگوریتم روش های متفاوتی مانند ذخبره frontier به صورت dict که مقدار heuristicرا هم در خود ذخیره کند و همچنین این که heuristic را در یک لیست جدا ذخیره کنم را امتحان کردم. ولی همه این روش ها با تایم زیادی به جواب می رسید.  \n",
    "بنابر این بهترین روش استفاده از heap برای frontierاست. در این روش برای هر نود heuristic متناظر با آن را محاسبه کرده و در خود node به عنوان یک attribute از آن ذخیره می کند. و هنگام pop کردن نودی را که کمتیرین heuristic را دارد pop می کند. "
   ]
  },
  {
   "cell_type": "markdown",
   "id": "bulgarian-compact",
   "metadata": {},
   "source": [
    "برای این سوال من چند heuristic در نظر گرفتم که به توضیح آن ها می پردازیم:\n"
   ]
  },
  {
   "cell_type": "markdown",
   "id": "imperial-storage",
   "metadata": {},
   "source": [
    "heuristic1:  \n",
    "در این تابع برای همه توپ های کوله پشتی فاصله اقلیدسی آن ها از جایی که ایجنت قرار دارد تا مقصد توپ ها و  برای توپ هایی یکه روی زمین قرار دارند فاصله مبدا تا مقصد توپ و کل این مقدار به اضافه فاصله مکان ایجنت تا نقطه پایانی را در نظر گرفتم \n",
    "این تابع هیرویستیک admissible می باشد به دلیل این که فاصله تخمین زده شده حتما از فاصله واقعی کمتر است\n",
    "\n",
    "اگر تابع consistent باشد به این صورت است که اگر فرض کنیم دو نود A , C داریم هزینه واقعی A تا پایان حتما از هزینه تخمین زده شده از A به C و از C به پایان کمتر می باشد.\n",
    "\n",
    "همچنین در توابع herusistic ای که consistentهستند تابع f یعنی مجموع هزینه واقعی از state ابتدایی تا آن جا به اضافه تخمین هزینه از آن state تا state نهایی همواره غیر کاهشی است.\n"
   ]
  },
  {
   "cell_type": "code",
   "execution_count": 11,
   "id": "sacred-maria",
   "metadata": {},
   "outputs": [],
   "source": [
    "def heuristic1(maze, node):\n",
    "    result = 1\n",
    "    for ball_from in node.state.backpack:\n",
    "        ball_to = maze.balls_1[maze.balls_0.index(ball_from)]\n",
    "        result += (math.sqrt((node.state.agent_loc[0] - ball_to[0]) ** 2 + (node.state.agent_loc[1] - ball_to[1]) ** 2))\n",
    "    for ball_from in node.state.ball_remain_loc:\n",
    "        ball_to = maze.balls_1[maze.balls_0.index(ball_from)]\n",
    "        # result += (math.sqrt((node.state.agent_loc[0] - ball_from[0])**2 + (node.state.agent_loc[1] - ball_from[1])**2))\n",
    "        result += (math.sqrt((ball_from[0] - ball_to[0]) ** 2 + (ball_from[1] - ball_to[1]) ** 2))\n",
    "    result += abs(node.state.agent_loc[0] - maze.end[0]) + abs(node.state.agent_loc[1] - maze.end[1])\n",
    "\n",
    "    return result\n"
   ]
  },
  {
   "cell_type": "markdown",
   "id": "suitable-research",
   "metadata": {},
   "source": [
    "heuristic2:  \n",
    "این تابع مشابه توضیحات قبل با این تفاوت که فاصله منهتن را در نظر گرفتم."
   ]
  },
  {
   "cell_type": "code",
   "execution_count": 12,
   "id": "severe-shelf",
   "metadata": {},
   "outputs": [],
   "source": [
    "def heuristic2(maze, node):\n",
    "    result = 1\n",
    "    for ball_from in node.state.backpack:\n",
    "        ball_to = maze.balls_1[maze.balls_0.index(ball_from)]\n",
    "        result += abs(node.state.agent_loc[0]-ball_to[0]) + abs(node.state.agent_loc[1] - ball_to[1])\n",
    "    for ball_from in node.state.ball_remain_loc:\n",
    "        ball_to = maze.balls_1[maze.balls_0.index(ball_from)]\n",
    "#         result += abs(node.state.agent_loc[0]-ball_from[0]) + abs(node.state.agent_loc[1] - ball_from[1])\n",
    "        result += abs(ball_from[0]-ball_to[0]) + abs(ball_from[1] - ball_to[1])\n",
    "    result += abs(node.state.agent_loc[0] - maze.end[0]) + abs(node.state.agent_loc[1] - maze.end[1])\n",
    "    return result\n"
   ]
  },
  {
   "cell_type": "markdown",
   "id": "norwegian-completion",
   "metadata": {},
   "source": [
    "heuristic3:  \n",
    "در این تابع فقط فاصله ایجنت تا خروج را در نظر می گیریم."
   ]
  },
  {
   "cell_type": "code",
   "execution_count": 13,
   "id": "former-jackson",
   "metadata": {},
   "outputs": [],
   "source": [
    "def heuristic3(maze, node):\n",
    "    result = 1\n",
    "    result += abs(node.state.agent_loc[0] - maze.end[0]) + abs(node.state.agent_loc[1] - maze.end[1])\n",
    "    return result\n"
   ]
  },
  {
   "cell_type": "markdown",
   "id": "later-stomach",
   "metadata": {},
   "source": [
    "کد الگوریتم مشابه BFS است با این تفاوت که در هر iteration نودی را از frontier pop می کنیم که کمترین مقدار fرا دااشته باشد.  \n",
    "*: فیلدی که با عنوان  heurisistic  برای node ذخیره کرده ام درواقع همان f است یعنی h + g که مجموع هزینه واقعی تا آن state  و هزینه تخمین زده شده تا انتها می باشد."
   ]
  },
  {
   "cell_type": "code",
   "execution_count": 14,
   "id": "sized-firewall",
   "metadata": {},
   "outputs": [],
   "source": [
    "def aStar(maze):\n",
    "    initial_state = maze.get_initial_state()\n",
    "    node = Node(initial_state, None, None, 0)\n",
    "    if maze.goal_test(node.state):\n",
    "        return node\n",
    "    frontier = [node]\n",
    "    explored = set()\n",
    "    explored.add(node.state)\n",
    "    unique_states = 0\n",
    "    total_states = 0\n",
    "    while True:\n",
    "        unique_states += 1\n",
    "        if not frontier:\n",
    "            break\n",
    "        node = heappop(frontier)\n",
    "        node.state.put_ball(maze.balls_0, maze.balls_1)\n",
    "        for action in maze.actions():\n",
    "            total_states += 1\n",
    "            child = node.child_node(maze, action)\n",
    "            child.heuristic = heuristic3(maze, child) + child.path_cost\n",
    "            if child.state not in explored:\n",
    "                if maze.goal_test(child.state):\n",
    "                    return child, unique_states, total_states\n",
    "                heappush(frontier, child)\n",
    "                explored.add(child.state)\n",
    "    return None"
   ]
  },
  {
   "cell_type": "markdown",
   "id": "dated-tamil",
   "metadata": {},
   "source": [
    "#  test   aStar"
   ]
  },
  {
   "cell_type": "code",
   "execution_count": 15,
   "id": "unlikely-flooring",
   "metadata": {},
   "outputs": [
    {
     "name": "stdout",
     "output_type": "stream",
     "text": [
      "path is:\n",
      "loc: (2, 6)  f: 21  cost: 20  action: right\n",
      "loc: (2, 5)  f: 21  cost: 19  action: right\n",
      "loc: (2, 4)  f: 21  cost: 18  action: right\n",
      "loc: (2, 3)  f: 21  cost: 17  action: down\n",
      "loc: (1, 3)  f: 21  cost: 16  action: right\n",
      "loc: (1, 2)  f: 21  cost: 15  action: take_ball\n",
      "loc: (1, 2)  f: 20  cost: 14  action: right\n",
      "loc: (1, 1)  f: 20  cost: 13  action: left\n",
      "loc: (1, 2)  f: 18  cost: 12  action: left\n",
      "loc: (1, 3)  f: 16  cost: 11  action: up\n",
      "loc: (2, 3)  f: 14  cost: 10  action: up\n",
      "loc: (3, 3)  f: 14  cost: 9  action: right\n",
      "loc: (3, 2)  f: 14  cost: 8  action: take_ball\n",
      "loc: (3, 2)  f: 13  cost: 7  action: left\n",
      "loc: (3, 3)  f: 11  cost: 6  action: down\n",
      "loc: (2, 3)  f: 9  cost: 5  action: take_ball\n",
      "loc: (2, 3)  f: 8  cost: 4  action: down\n",
      "loc: (1, 3)  f: 8  cost: 3  action: right\n",
      "loc: (1, 2)  f: 8  cost: 2  action: right\n",
      "loc: (1, 1)  f: 8  cost: 1  action: right\n",
      "loc: (1, 0)  f: 8  cost: 0  action: None\n",
      "unique states:  199\n",
      "total states:  994\n",
      "Time of calculating BFS:  0.010798215866088867\n"
     ]
    }
   ],
   "source": [
    "data = open('1.txt').read()\n",
    "m, n, c, start, end, balls, map, balls_0, balls_1 = get_info(data)\n",
    "maze = Maze(m, n, c, start, end, balls, map, balls_0, balls_1)\n",
    "tic = time.time()\n",
    "solution, unique_states, total_states = aStar(maze)\n",
    "toc = time.time()\n",
    "if solution is not None:\n",
    "    print(\"path is:\")\n",
    "    solution.print_path()\n",
    "    print('unique states: ', unique_states)\n",
    "    print('total states: ', total_states)\n",
    "print(\"Time of calculating BFS: \", toc-tic)"
   ]
  },
  {
   "cell_type": "markdown",
   "id": "fitting-modem",
   "metadata": {},
   "source": [
    "همان طور که مشاهده می شود مقدار f در طول مسیرغیر کاهشی می باشد.  \n",
    "بنابر این heuristic3 consistentمی باشد   \n",
    "فکر می کردم که heuristic1 و ۲ هم consistent  باشد ولی با مشاهده f آن متوجه می شویم که مقدار آن در مسیر گاهی کاهشی هم می شود."
   ]
  },
  {
   "cell_type": "code",
   "execution_count": 16,
   "id": "invalid-cincinnati",
   "metadata": {},
   "outputs": [
    {
     "name": "stdout",
     "output_type": "stream",
     "text": [
      "path is:\n",
      "loc: (48, 48)  f: 49  cost: 48  action: right\n",
      "loc: (48, 47)  f: 49  cost: 47  action: right\n",
      "loc: (48, 46)  f: 49  cost: 46  action: right\n",
      "loc: (48, 45)  f: 49  cost: 45  action: right\n",
      "loc: (48, 44)  f: 49  cost: 44  action: right\n",
      "loc: (48, 43)  f: 49  cost: 43  action: right\n",
      "loc: (48, 42)  f: 49  cost: 42  action: right\n",
      "loc: (48, 41)  f: 49  cost: 41  action: right\n",
      "loc: (48, 40)  f: 49  cost: 40  action: right\n",
      "loc: (48, 39)  f: 49  cost: 39  action: right\n",
      "loc: (48, 38)  f: 49  cost: 38  action: right\n",
      "loc: (48, 37)  f: 49  cost: 37  action: right\n",
      "loc: (48, 36)  f: 49  cost: 36  action: right\n",
      "loc: (48, 35)  f: 49  cost: 35  action: right\n",
      "loc: (48, 34)  f: 49  cost: 34  action: right\n",
      "loc: (48, 33)  f: 49  cost: 33  action: right\n",
      "loc: (48, 32)  f: 49  cost: 32  action: right\n",
      "loc: (48, 31)  f: 49  cost: 31  action: right\n",
      "loc: (48, 30)  f: 49  cost: 30  action: right\n",
      "loc: (48, 29)  f: 49  cost: 29  action: right\n",
      "loc: (48, 28)  f: 49  cost: 28  action: right\n",
      "loc: (48, 27)  f: 49  cost: 27  action: right\n",
      "loc: (48, 26)  f: 49  cost: 26  action: right\n",
      "loc: (48, 25)  f: 49  cost: 25  action: right\n",
      "loc: (48, 24)  f: 49  cost: 24  action: down\n",
      "loc: (47, 24)  f: 49  cost: 23  action: down\n",
      "loc: (46, 24)  f: 49  cost: 22  action: down\n",
      "loc: (45, 24)  f: 49  cost: 21  action: down\n",
      "loc: (44, 24)  f: 49  cost: 20  action: down\n",
      "loc: (43, 24)  f: 49  cost: 19  action: down\n",
      "loc: (42, 24)  f: 49  cost: 18  action: down\n",
      "loc: (41, 24)  f: 49  cost: 17  action: down\n",
      "loc: (40, 24)  f: 49  cost: 16  action: down\n",
      "loc: (39, 24)  f: 49  cost: 15  action: down\n",
      "loc: (38, 24)  f: 49  cost: 14  action: down\n",
      "loc: (37, 24)  f: 49  cost: 13  action: down\n",
      "loc: (36, 24)  f: 49  cost: 12  action: down\n",
      "loc: (35, 24)  f: 49  cost: 11  action: down\n",
      "loc: (34, 24)  f: 49  cost: 10  action: down\n",
      "loc: (33, 24)  f: 49  cost: 9  action: down\n",
      "loc: (32, 24)  f: 49  cost: 8  action: down\n",
      "loc: (31, 24)  f: 49  cost: 7  action: down\n",
      "loc: (30, 24)  f: 49  cost: 6  action: down\n",
      "loc: (29, 24)  f: 49  cost: 5  action: down\n",
      "loc: (28, 24)  f: 49  cost: 4  action: down\n",
      "loc: (27, 24)  f: 49  cost: 3  action: down\n",
      "loc: (26, 24)  f: 49  cost: 2  action: down\n",
      "loc: (25, 24)  f: 49  cost: 1  action: down\n",
      "loc: (24, 24)  f: None  cost: 0  action: None\n",
      "unique states:  48\n",
      "total states:  239\n",
      "Time of calculating BFS:  0.0012595653533935547\n"
     ]
    }
   ],
   "source": [
    "data = open('2.txt').read()\n",
    "m, n, c, start, end, balls, map, balls_0, balls_1 = get_info(data)\n",
    "maze = Maze(m, n, c, start, end, balls, map, balls_0, balls_1)\n",
    "tic = time.time()\n",
    "solution, unique_states, total_states = aStar(maze)\n",
    "toc = time.time()\n",
    "if solution is not None:\n",
    "    print(\"path is:\")\n",
    "    solution.print_path()\n",
    "    print('unique states: ', unique_states)\n",
    "    print('total states: ', total_states)\n",
    "print(\"Time of calculating BFS: \", toc-tic)"
   ]
  },
  {
   "cell_type": "markdown",
   "id": "grateful-samba",
   "metadata": {},
   "source": [
    "مشاهده می شود که برای  تست ۲ تعداد state های مجزای دیده شده برابر با همان طول مسیر اصلی می باشد. درواقع در این تست ایجنت مستقیما به سمت هدف حرکت کرده است."
   ]
  },
  {
   "cell_type": "markdown",
   "id": "invisible-republic",
   "metadata": {},
   "source": [
    "## weighted aStar"
   ]
  },
  {
   "cell_type": "markdown",
   "id": "stretch-variance",
   "metadata": {},
   "source": [
    "در این الگوریتم برای تابع heuristic ضریبی بزرگ تر از یک در نظر می گیریم  و در واقع تاثیر تخمین هزینه تا state نهایی  را بیشتر از هزینه واقعی از state ابتدایی تا stateفعلی در نظر می گیریم.  و قدرت بیشتری در تاثیر گذاری در انتخاب state بعدی که می خواهد از frontier pop شود دارد."
   ]
  },
  {
   "cell_type": "code",
   "execution_count": 17,
   "id": "chubby-illinois",
   "metadata": {},
   "outputs": [],
   "source": [
    "def WaStar(maze, alpha):\n",
    "    initial_state = maze.get_initial_state()\n",
    "    node = Node(initial_state, None, None, 0)\n",
    "    if maze.goal_test(node.state):\n",
    "        return node\n",
    "    frontier = [node]\n",
    "    explored = set()\n",
    "    explored.add(node.state)\n",
    "    unique_states = 0\n",
    "    total_states = 0\n",
    "    while True:\n",
    "        unique_states += 1\n",
    "        if not frontier:\n",
    "            break\n",
    "        node = heappop(frontier)\n",
    "        node.state.put_ball(maze.balls_0, maze.balls_1)\n",
    "        for action in maze.actions():\n",
    "            total_states += 1\n",
    "            child = node.child_node(maze, action)\n",
    "            child.heuristic = alpha*heuristic1(maze, child) + child.path_cost\n",
    "            if child.state not in explored:\n",
    "                if maze.goal_test(child.state):\n",
    "                    return child, unique_states, total_states\n",
    "                heappush(frontier, child)\n",
    "                explored.add(child.state)\n",
    "    return None"
   ]
  },
  {
   "cell_type": "markdown",
   "id": "pointed-comment",
   "metadata": {},
   "source": [
    "# test weighted aStar alpha = 2"
   ]
  },
  {
   "cell_type": "code",
   "execution_count": 18,
   "id": "unknown-running",
   "metadata": {},
   "outputs": [
    {
     "name": "stdout",
     "output_type": "stream",
     "text": [
      "path is:\n",
      "loc: (2, 6)  f: 26  cost: 24  action: right\n",
      "loc: (2, 5)  f: 27  cost: 23  action: right\n",
      "loc: (2, 4)  f: 28  cost: 22  action: right\n",
      "loc: (2, 3)  f: 29  cost: 21  action: down\n",
      "loc: (1, 3)  f: 30  cost: 20  action: right\n",
      "loc: (1, 2)  f: 31  cost: 19  action: right\n",
      "loc: (1, 1)  f: 32  cost: 18  action: left\n",
      "loc: (1, 2)  f: 31.0  cost: 17  action: left\n",
      "loc: (1, 3)  f: 30.0  cost: 16  action: up\n",
      "loc: (2, 3)  f: 27.47213595499958  cost: 15  action: up\n",
      "loc: (3, 3)  f: 29.65685424949238  cost: 14  action: right\n",
      "loc: (3, 2)  f: 29.47213595499958  cost: 13  action: take_ball\n",
      "loc: (3, 2)  f: 28.47213595499958  cost: 12  action: left\n",
      "loc: (3, 3)  f: 25.47213595499958  cost: 11  action: down\n",
      "loc: (2, 3)  f: 24.47213595499958  cost: 10  action: take_ball\n",
      "loc: (2, 3)  f: 23.47213595499958  cost: 9  action: left\n",
      "loc: (2, 4)  f: 20.47213595499958  cost: 8  action: left\n",
      "loc: (2, 5)  f: 17.47213595499958  cost: 7  action: right\n",
      "loc: (2, 4)  f: 20.47213595499958  cost: 6  action: down\n",
      "loc: (1, 4)  f: 22.30056307974577  cost: 5  action: right\n",
      "loc: (1, 3)  f: 24.94427190999916  cost: 4  action: right\n",
      "loc: (1, 2)  f: 27.79669127533634  cost: 3  action: take_ball\n",
      "loc: (1, 2)  f: 26.79669127533634  cost: 2  action: right\n",
      "loc: (1, 1)  f: 27.79669127533634  cost: 1  action: right\n",
      "loc: (1, 0)  f: 28.79669127533634  cost: 0  action: None\n",
      "unique states:  123\n",
      "total states:  614\n",
      "Time of calculating BFS:  0.003732442855834961\n"
     ]
    }
   ],
   "source": [
    "data = open('1.txt').read()\n",
    "m, n, c, start, end, balls, map, balls_0, balls_1 = get_info(data)\n",
    "maze = Maze(m, n, c, start, end, balls, map, balls_0, balls_1)\n",
    "tic = time.time()\n",
    "solution, unique_states, total_states = WaStar(maze, 2)\n",
    "toc = time.time()\n",
    "if solution is not None:\n",
    "    print(\"path is:\")\n",
    "    solution.print_path()\n",
    "    print('unique states: ', unique_states)\n",
    "    print('total states: ', total_states)\n",
    "print(\"Time of calculating BFS: \", toc-tic)"
   ]
  },
  {
   "cell_type": "markdown",
   "id": "divine-contract",
   "metadata": {},
   "source": [
    "## test weighted aStar alpha = 1.3"
   ]
  },
  {
   "cell_type": "code",
   "execution_count": 19,
   "id": "alpine-kansas",
   "metadata": {},
   "outputs": [
    {
     "name": "stdout",
     "output_type": "stream",
     "text": [
      "path is:\n",
      "loc: (2, 6)  f: 21.3  cost: 20  action: right\n",
      "loc: (2, 5)  f: 21.6  cost: 19  action: right\n",
      "loc: (2, 4)  f: 23.2  cost: 18  action: down\n",
      "loc: (1, 4)  f: 24.038477631085023  cost: 17  action: right\n",
      "loc: (1, 3)  f: 25.406888370749726  cost: 16  action: right\n",
      "loc: (1, 2)  f: 26.910960958218894  cost: 15  action: take_ball\n",
      "loc: (1, 2)  f: 25.910960958218894  cost: 14  action: right\n",
      "loc: (1, 1)  f: 26.210960958218894  cost: 13  action: left\n",
      "loc: (1, 2)  f: 25.210960958218894  cost: 12  action: left\n",
      "loc: (1, 3)  f: 24.210960958218894  cost: 11  action: up\n",
      "loc: (2, 3)  f: 22.21784932896862  cost: 10  action: up\n",
      "loc: (3, 3)  f: 23.287916220388944  cost: 9  action: right\n",
      "loc: (3, 2)  f: 22.81784932896862  cost: 8  action: take_ball\n",
      "loc: (3, 2)  f: 21.81784932896862  cost: 7  action: left\n",
      "loc: (3, 3)  f: 19.517849328968623  cost: 6  action: down\n",
      "loc: (2, 3)  f: 18.517849328968623  cost: 5  action: take_ball\n",
      "loc: (2, 3)  f: 17.517849328968623  cost: 4  action: down\n",
      "loc: (1, 3)  f: 17.81784932896862  cost: 3  action: right\n",
      "loc: (1, 2)  f: 18.11784932896862  cost: 2  action: right\n",
      "loc: (1, 1)  f: 18.41784932896862  cost: 1  action: right\n",
      "loc: (1, 0)  f: 18.717849328968622  cost: 0  action: None\n",
      "unique states:  181\n",
      "total states:  904\n",
      "Time of calculating BFS:  0.00844430923461914\n"
     ]
    }
   ],
   "source": [
    "data = open('1.txt').read()\n",
    "m, n, c, start, end, balls, map, balls_0, balls_1 = get_info(data)\n",
    "maze = Maze(m, n, c, start, end, balls, map, balls_0, balls_1)\n",
    "tic = time.time()\n",
    "solution, unique_states, total_states = WaStar(maze, 1.3)\n",
    "toc = time.time()\n",
    "if solution is not None:\n",
    "    print(\"path is:\")\n",
    "    solution.print_path()\n",
    "    print('unique states: ', unique_states)\n",
    "    print('total states: ', total_states)\n",
    "print(\"Time of calculating BFS: \", toc-tic)"
   ]
  },
  {
   "cell_type": "markdown",
   "id": "heard-cleaner",
   "metadata": {},
   "source": [
    "# نتیجه و مقایسه:"
   ]
  },
  {
   "cell_type": "markdown",
   "id": "reported-money",
   "metadata": {},
   "source": [
    "در الگوریتم A* تعداد استیت های دیده شده ودر نتیجه زمان اجرای الگوریتم نسبت به دو الگوریتم BFS و IDS کاهش میابد.  \n",
    "در A* وزن دار با آلفا ۲ بهترین نتیجه را داریم  و آلفا ۱.۳ نتیجه بهتر از الگوریتم هایBFS و IDSولی بدتر از  الگوریتم A* با آلفا ۲ می دهد.  \n",
    "درواقع در این جا با افزایش آلفا عملکرد بهتر شده است."
   ]
  },
  {
   "cell_type": "markdown",
   "id": "stable-salmon",
   "metadata": {},
   "source": [
    "# Refrences:\n",
    "https://stackoverflow.com/"
   ]
  },
  {
   "cell_type": "code",
   "execution_count": 20,
   "id": "republican-bahamas",
   "metadata": {},
   "outputs": [
    {
     "data": {
      "text/plain": [
       "0"
      ]
     },
     "execution_count": 20,
     "metadata": {},
     "output_type": "execute_result"
    }
   ],
   "source": [
    "import os\n",
    "os.system('jupyter nbconvert --to html AI_CA1_810896059.ipynb')"
   ]
  }
 ],
 "metadata": {
  "kernelspec": {
   "display_name": "Python 3 (ipykernel)",
   "language": "python",
   "name": "python3"
  },
  "language_info": {
   "codemirror_mode": {
    "name": "ipython",
    "version": 3
   },
   "file_extension": ".py",
   "mimetype": "text/x-python",
   "name": "python",
   "nbconvert_exporter": "python",
   "pygments_lexer": "ipython3",
   "version": "3.10.1"
  }
 },
 "nbformat": 4,
 "nbformat_minor": 5
}
